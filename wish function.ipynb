{
 "cells": [
  {
   "cell_type": "code",
   "execution_count": 3,
   "metadata": {},
   "outputs": [],
   "source": [
    "# wish function  according current time\n",
    "import pyttsx3\n",
    "engine =pyttsx3.init()\n",
    "import datetime # for time  and date function \n",
    "voices = engine.getProperty('voices')\n",
    "engine.setProperty('voice',voices[1].id) # for voice option\n",
    "newvoiceRate = 130\n",
    "engine.setProperty('rate', newvoiceRate) #for rate option \n",
    "def speak(audio) :\n",
    "    engine.say(audio)\n",
    "    engine.runAndWait()\n",
    "def speak(audio) :\n",
    "    engine =pyttsx3.init()\n",
    "    engine.say(audio)\n",
    "    engine.runAndWait()\n",
    "def time():\n",
    "    Time = datetime.datetime.now().strftime(\"%I:%M:%S\")\n",
    "    speak(Time)  \n",
    "def date(): \n",
    "    year = int(datetime.datetime.now().year)\n",
    "    month =int(datetime.datetime.now().month)\n",
    "    date = int(datetime.datetime.now().day)\n",
    "    speak(\"the current date is\")\n",
    "    speak(date)\n",
    "    speak(month)\n",
    "    speak(year)    \n",
    "def wishme(): # wish function  according current time \n",
    "    speak(\"Welcome back Ma'am!\")\n",
    "    time()\n",
    "    date()\n",
    "    hour = datetime.datetime.now().hour\n",
    "    if hour >= 6 and hour <=12:\n",
    "        speak(\"Good morning\")\n",
    "    elif hour >=12 and   hour <=18:\n",
    "        speak(\"Good afternoon\")\n",
    "    elif hour >=18 and   hour <=24:\n",
    "        speak(\"Good evening\")\n",
    "    else:\n",
    "        speak(\"Good Night\")\n",
    "        \n",
    "    speak(\" Sunday at your service. How I can help you ?\" )\n",
    "wishme()    \n",
    "    "
   ]
  },
  {
   "cell_type": "code",
   "execution_count": null,
   "metadata": {},
   "outputs": [],
   "source": []
  }
 ],
 "metadata": {
  "kernelspec": {
   "display_name": "Python 3",
   "language": "python",
   "name": "python3"
  },
  "language_info": {
   "codemirror_mode": {
    "name": "ipython",
    "version": 3
   },
   "file_extension": ".py",
   "mimetype": "text/x-python",
   "name": "python",
   "nbconvert_exporter": "python",
   "pygments_lexer": "ipython3",
   "version": "3.8.5"
  }
 },
 "nbformat": 4,
 "nbformat_minor": 4
}
