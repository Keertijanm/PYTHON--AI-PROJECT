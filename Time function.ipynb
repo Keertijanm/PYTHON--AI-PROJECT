{
 "cells": [
  {
   "cell_type": "code",
   "execution_count": 6,
   "metadata": {},
   "outputs": [],
   "source": [
    "#Time and date function \n",
    "\n",
    "import pyttsx3\n",
    "import datetime # for time  and date function \n",
    "def speak(audio) :\n",
    "    engine =pyttsx3.init()\n",
    "    engine.say(audio)\n",
    "    engine.runAndWait()\n",
    "def time():\n",
    "    Time = datetime.datetime.now().strftime(\"%I:%M:%S\")\n",
    "    speak(Time)\n",
    "time()    \n",
    "def date(): \n",
    "    year = int(datetime.datetime.now().year)\n",
    "    month =int(datetime.datetime.now().month)\n",
    "    date = int(datetime.datetime.now().day)\n",
    "    speak(\"the current date is\")\n",
    "    speak(date)\n",
    "    speak(month)\n",
    "    speak(year)\n",
    "date()"
   ]
  }
 ],
 "metadata": {
  "kernelspec": {
   "display_name": "Python 3",
   "language": "python",
   "name": "python3"
  },
  "language_info": {
   "codemirror_mode": {
    "name": "ipython",
    "version": 3
   },
   "file_extension": ".py",
   "mimetype": "text/x-python",
   "name": "python",
   "nbconvert_exporter": "python",
   "pygments_lexer": "ipython3",
   "version": "3.8.5"
  }
 },
 "nbformat": 4,
 "nbformat_minor": 4
}
