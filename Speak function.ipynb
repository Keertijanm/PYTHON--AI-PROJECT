{
 "cells": [
  {
   "cell_type": "code",
   "execution_count": 5,
   "metadata": {},
   "outputs": [],
   "source": [
    "#. Speak function\n",
    "import pyttsx3\n",
    "def speak(audio) :\n",
    "    engine =pyttsx3.init()\n",
    "    engine.say(audio)\n",
    "    engine.runAndWait()\n",
    "speak(\"Hello, Keerti Gupta - student of ABES Engineering college\")\n",
    "    \n",
    "    "
   ]
  },
  {
   "cell_type": "code",
   "execution_count": 12,
   "metadata": {},
   "outputs": [],
   "source": [
    "#. How to set Voice option and speak rate of assistance\n",
    "import pyttsx3\n",
    "engine =pyttsx3.init()\n",
    "voices = engine.getProperty('voices')\n",
    "engine.setProperty('voice',voices[1].id) # for voice option\n",
    "newvoiceRate = 130\n",
    "engine.setProperty('rate', newvoiceRate) #for rate option \n",
    "def speak(audio) :\n",
    "    engine.say(audio)\n",
    "    engine.runAndWait()\n",
    "speak(\"Hello,This is Python Assistant made by Keerti Gupta - student of ABES Engineering college\")\n",
    "    "
   ]
  },
  {
   "cell_type": "code",
   "execution_count": null,
   "metadata": {},
   "outputs": [],
   "source": []
  }
 ],
 "metadata": {
  "kernelspec": {
   "display_name": "Python 3",
   "language": "python",
   "name": "python3"
  },
  "language_info": {
   "codemirror_mode": {
    "name": "ipython",
    "version": 3
   },
   "file_extension": ".py",
   "mimetype": "text/x-python",
   "name": "python",
   "nbconvert_exporter": "python",
   "pygments_lexer": "ipython3",
   "version": "3.8.5"
  }
 },
 "nbformat": 4,
 "nbformat_minor": 4
}
